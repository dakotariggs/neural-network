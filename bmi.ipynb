{
 "cells": [
  {
   "cell_type": "code",
   "execution_count": 20,
   "metadata": {},
   "outputs": [],
   "source": [
    "import numpy as np\n",
    "import pandas as pd\n",
    "import matplotlib.pyplot as plt\n",
    "from tensorflow.keras.models import Sequential\n",
    "from tensorflow.keras.layers import Dense\n",
    "from tensorflow.keras import optimizers\n",
    "from sklearn.linear_model import LinearRegression\n",
    "\n",
    "%matplotlib inline"
   ]
  },
  {
   "cell_type": "code",
   "execution_count": 21,
   "metadata": {},
   "outputs": [
    {
     "data": {
      "text/html": [
       "<div>\n",
       "<style scoped>\n",
       "    .dataframe tbody tr th:only-of-type {\n",
       "        vertical-align: middle;\n",
       "    }\n",
       "\n",
       "    .dataframe tbody tr th {\n",
       "        vertical-align: top;\n",
       "    }\n",
       "\n",
       "    .dataframe thead th {\n",
       "        text-align: right;\n",
       "    }\n",
       "</style>\n",
       "<table border=\"1\" class=\"dataframe\">\n",
       "  <thead>\n",
       "    <tr style=\"text-align: right;\">\n",
       "      <th></th>\n",
       "      <th>ID</th>\n",
       "      <th>TC</th>\n",
       "      <th>BMI</th>\n",
       "      <th>BMI_cat</th>\n",
       "      <th>Obese</th>\n",
       "    </tr>\n",
       "  </thead>\n",
       "  <tbody>\n",
       "    <tr>\n",
       "      <th>0</th>\n",
       "      <td>1</td>\n",
       "      <td>158.0</td>\n",
       "      <td>20.2</td>\n",
       "      <td>Normal</td>\n",
       "      <td>0</td>\n",
       "    </tr>\n",
       "    <tr>\n",
       "      <th>1</th>\n",
       "      <td>2</td>\n",
       "      <td>181.0</td>\n",
       "      <td>21.7</td>\n",
       "      <td>Normal</td>\n",
       "      <td>0</td>\n",
       "    </tr>\n",
       "    <tr>\n",
       "      <th>2</th>\n",
       "      <td>3</td>\n",
       "      <td>192.0</td>\n",
       "      <td>22.0</td>\n",
       "      <td>Normal</td>\n",
       "      <td>0</td>\n",
       "    </tr>\n",
       "    <tr>\n",
       "      <th>3</th>\n",
       "      <td>4</td>\n",
       "      <td>164.0</td>\n",
       "      <td>22.8</td>\n",
       "      <td>Normal</td>\n",
       "      <td>0</td>\n",
       "    </tr>\n",
       "    <tr>\n",
       "      <th>4</th>\n",
       "      <td>5</td>\n",
       "      <td>201.5</td>\n",
       "      <td>24.6</td>\n",
       "      <td>Normal</td>\n",
       "      <td>0</td>\n",
       "    </tr>\n",
       "  </tbody>\n",
       "</table>\n",
       "</div>"
      ],
      "text/plain": [
       "   ID     TC   BMI BMI_cat  Obese\n",
       "0   1  158.0  20.2  Normal      0\n",
       "1   2  181.0  21.7  Normal      0\n",
       "2   3  192.0  22.0  Normal      0\n",
       "3   4  164.0  22.8  Normal      0\n",
       "4   5  201.5  24.6  Normal      0"
      ]
     },
     "execution_count": 21,
     "metadata": {},
     "output_type": "execute_result"
    }
   ],
   "source": [
    "df = pd.read_csv('tc_bmi.csv')\n",
    "df.head()"
   ]
  },
  {
   "cell_type": "code",
   "execution_count": 22,
   "metadata": {},
   "outputs": [
    {
     "name": "stderr",
     "output_type": "stream",
     "text": [
      "/Users/chyld/.conda/envs/py37/lib/python3.7/site-packages/ipykernel_launcher.py:1: FutureWarning: Method .as_matrix will be removed in a future version. Use .values instead.\n",
      "  \"\"\"Entry point for launching an IPython kernel.\n"
     ]
    }
   ],
   "source": [
    "X = df.BMI.as_matrix().reshape(20,1)\n",
    "y = df.TC"
   ]
  },
  {
   "cell_type": "code",
   "execution_count": 23,
   "metadata": {},
   "outputs": [],
   "source": [
    "model = LinearRegression().fit(X,y)"
   ]
  },
  {
   "cell_type": "code",
   "execution_count": 24,
   "metadata": {},
   "outputs": [
    {
     "data": {
      "text/plain": [
       "29.267587415792008"
      ]
     },
     "execution_count": 24,
     "metadata": {},
     "output_type": "execute_result"
    }
   ],
   "source": [
    "model.intercept_"
   ]
  },
  {
   "cell_type": "code",
   "execution_count": 25,
   "metadata": {},
   "outputs": [
    {
     "data": {
      "text/plain": [
       "array([6.45096467])"
      ]
     },
     "execution_count": 25,
     "metadata": {},
     "output_type": "execute_result"
    }
   ],
   "source": [
    "model.coef_"
   ]
  },
  {
   "cell_type": "code",
   "execution_count": 26,
   "metadata": {},
   "outputs": [],
   "source": [
    "# equation\n",
    "# y = 6.45096467 * BMI + 29.267587415792008"
   ]
  },
  {
   "cell_type": "code",
   "execution_count": 27,
   "metadata": {},
   "outputs": [],
   "source": [
    "y_hat = model.predict(X)"
   ]
  },
  {
   "cell_type": "code",
   "execution_count": 28,
   "metadata": {},
   "outputs": [],
   "source": [
    "nn = Sequential()"
   ]
  },
  {
   "cell_type": "code",
   "execution_count": 29,
   "metadata": {},
   "outputs": [],
   "source": [
    "nn.add(Dense(units=1, activation='linear', input_shape=(1,)))"
   ]
  },
  {
   "cell_type": "code",
   "execution_count": 30,
   "metadata": {},
   "outputs": [],
   "source": [
    "sgd = optimizers.SGD(lr=0.001)"
   ]
  },
  {
   "cell_type": "code",
   "execution_count": 31,
   "metadata": {},
   "outputs": [],
   "source": [
    "nn.compile(loss='mse', optimizer=sgd, metrics=['mse'])"
   ]
  },
  {
   "cell_type": "code",
   "execution_count": 32,
   "metadata": {},
   "outputs": [
    {
     "name": "stdout",
     "output_type": "stream",
     "text": [
      "Model: \"sequential_1\"\n",
      "_________________________________________________________________\n",
      "Layer (type)                 Output Shape              Param #   \n",
      "=================================================================\n",
      "dense_1 (Dense)              (None, 1)                 2         \n",
      "=================================================================\n",
      "Total params: 2\n",
      "Trainable params: 2\n",
      "Non-trainable params: 0\n",
      "_________________________________________________________________\n"
     ]
    }
   ],
   "source": [
    "nn.summary()"
   ]
  },
  {
   "cell_type": "code",
   "execution_count": 33,
   "metadata": {},
   "outputs": [
    {
     "name": "stdout",
     "output_type": "stream",
     "text": [
      "Epoch 1/20\n",
      "20/20 - 0s - loss: 23090.0576 - mse: 23090.0566\n",
      "Epoch 2/20\n",
      "20/20 - 0s - loss: 3626.7866 - mse: 3626.7866\n",
      "Epoch 3/20\n",
      "20/20 - 0s - loss: 1692.4845 - mse: 1692.4846\n",
      "Epoch 4/20\n",
      "20/20 - 0s - loss: 464.5069 - mse: 464.5069\n",
      "Epoch 5/20\n",
      "20/20 - 0s - loss: 402.3943 - mse: 402.3943\n",
      "Epoch 6/20\n",
      "20/20 - 0s - loss: 443.0750 - mse: 443.0750\n",
      "Epoch 7/20\n",
      "20/20 - 0s - loss: 395.9803 - mse: 395.9803\n",
      "Epoch 8/20\n",
      "20/20 - 0s - loss: 517.4754 - mse: 517.4754\n",
      "Epoch 9/20\n",
      "20/20 - 0s - loss: 621.3455 - mse: 621.3455\n",
      "Epoch 10/20\n",
      "20/20 - 0s - loss: 417.8824 - mse: 417.8824\n",
      "Epoch 11/20\n",
      "20/20 - 0s - loss: 703.7880 - mse: 703.7880\n",
      "Epoch 12/20\n",
      "20/20 - 0s - loss: 421.1175 - mse: 421.1174\n",
      "Epoch 13/20\n",
      "20/20 - 0s - loss: 532.9635 - mse: 532.9635\n",
      "Epoch 14/20\n",
      "20/20 - 0s - loss: 394.3134 - mse: 394.3134\n",
      "Epoch 15/20\n",
      "20/20 - 0s - loss: 384.0554 - mse: 384.0554\n",
      "Epoch 16/20\n",
      "20/20 - 0s - loss: 404.6887 - mse: 404.6887\n",
      "Epoch 17/20\n",
      "20/20 - 0s - loss: 453.8384 - mse: 453.8384\n",
      "Epoch 18/20\n",
      "20/20 - 0s - loss: 405.7852 - mse: 405.7852\n",
      "Epoch 19/20\n",
      "20/20 - 0s - loss: 386.6622 - mse: 386.6622\n",
      "Epoch 20/20\n",
      "20/20 - 0s - loss: 461.8424 - mse: 461.8424\n"
     ]
    }
   ],
   "source": [
    "history = nn.fit(X, y, epochs=20, batch_size=10, verbose=2)"
   ]
  },
  {
   "cell_type": "code",
   "execution_count": 34,
   "metadata": {},
   "outputs": [],
   "source": [
    "nn_pred = nn.predict(X)"
   ]
  },
  {
   "cell_type": "code",
   "execution_count": 35,
   "metadata": {},
   "outputs": [
    {
     "data": {
      "image/png": "[encoded data removed]",
      "text/plain": [
       "<Figure size 864x504 with 1 Axes>"
      ]
     },
     "metadata": {
      "needs_background": "light"
     },
     "output_type": "display_data"
    }
   ],
   "source": [
    "plt.figure(figsize=(12,7))\n",
    "plt.scatter(X, y, marker='*')\n",
    "plt.plot(X, y_hat, label='lr', color='#ff33cc')\n",
    "plt.plot(X, nn_pred, label='nn', color='#ffcc33')\n",
    "plt.legend()\n",
    "plt.show()"
   ]
  },
  {
   "cell_type": "code",
   "execution_count": 36,
   "metadata": {},
   "outputs": [
    {
     "data": {
      "text/plain": [
       "{'loss': [23090.0576171875,\n",
       "  3626.78662109375,\n",
       "  1692.4844970703125,\n",
       "  464.50694274902344,\n",
       "  402.39434814453125,\n",
       "  443.0749969482422,\n",
       "  395.9803161621094,\n",
       "  517.4753875732422,\n",
       "  621.3454742431641,\n",
       "  417.88238525390625,\n",
       "  703.7879638671875,\n",
       "  421.1174545288086,\n",
       "  532.9635162353516,\n",
       "  394.3134002685547,\n",
       "  384.055419921875,\n",
       "  404.6886901855469,\n",
       "  453.8384094238281,\n",
       "  405.78517150878906,\n",
       "  386.6622314453125,\n",
       "  461.8424377441406],\n",
       " 'mse': [23090.057,\n",
       "  3626.7866,\n",
       "  1692.4846,\n",
       "  464.50693,\n",
       "  402.39435,\n",
       "  443.075,\n",
       "  395.98032,\n",
       "  517.4754,\n",
       "  621.3455,\n",
       "  417.8824,\n",
       "  703.78796,\n",
       "  421.11743,\n",
       "  532.9635,\n",
       "  394.31342,\n",
       "  384.05542,\n",
       "  404.68866,\n",
       "  453.83838,\n",
       "  405.7852,\n",
       "  386.66223,\n",
       "  461.84244]}"
      ]
     },
     "execution_count": 36,
     "metadata": {},
     "output_type": "execute_result"
    }
   ],
   "source": [
    "history.history"
   ]
  },
  {
   "cell_type": "code",
   "execution_count": 37,
   "metadata": {},
   "outputs": [
    {
     "data": {
      "text/plain": [
       "[array([[7.1291323]], dtype=float32), array([0.24992175], dtype=float32)]"
      ]
     },
     "execution_count": 37,
     "metadata": {},
     "output_type": "execute_result"
    }
   ],
   "source": [
    "history.model.get_weights()"
   ]
  },
  {
   "cell_type": "code",
   "execution_count": null,
   "metadata": {},
   "outputs": [],
   "source": []
  }
 ],
 "metadata": {
  "kernelspec": {
   "display_name": "Python 3",
   "language": "python",
   "name": "python3"
  },
  "language_info": {
   "codemirror_mode": {
    "name": "ipython",
    "version": 3
   },
   "file_extension": ".py",
   "mimetype": "text/x-python",
   "name": "python",
   "nbconvert_exporter": "python",
   "pygments_lexer": "ipython3",
   "version": "3.7.3"
  }
 },
 "nbformat": 4,
 "nbformat_minor": 2
}
